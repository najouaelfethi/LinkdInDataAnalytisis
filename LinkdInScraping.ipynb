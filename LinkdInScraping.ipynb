{
 "cells": [
  {
   "cell_type": "code",
   "execution_count": 3,
   "metadata": {},
   "outputs": [],
   "source": [
    "import os\n",
    "from selenium import webdriver\n",
    "import numpy as np\n",
    "import pandas as pd\n",
    "from bs4 import BeautifulSoup\n",
    "from selenium.webdriver.common.by import By\n",
    "\n"
   ]
  },
  {
   "cell_type": "code",
   "execution_count": 8,
   "metadata": {},
   "outputs": [],
   "source": [
    "os.environ['PATH'] += r\";C:/DriversSelenium\"\n",
    "driver = webdriver.Edge()\n",
    "driver.get('https://www.linkedin.com/jobs/collections/recommended/?currentJobId=3804039268&eBP=CwEAAAGNN-rhJjrii0IfC8ZdyyOfVbvWDKXz-pFxu2ATN7y60GcMevqbeUqMd1i2CL4M-gWxx2z0wy-QyeBDe1xUwS-WyCRZsQuNHFE1HyFUS08KjNgg7LDXNmXzVjRumqLLGXA2lcv8Ho4taDUz2GZCqdtGIYLvQot_T6PxaZHSHmzvqb7Cu6xvAIeKXm3q-NEW8aoUzMKNNLkg_xPr1yXIYz-OWYvydwykp-BpHsWA1DrFFHpaGauav8peE024_qfoI_ca4e6FW8nq23xvOF_ywywtBucTlbsK8OJMxe3_RYoDeypPrSJBbWoZSpq_WkKPVg6QUzZ7U64QLeYhNbYQ06Y&refId=HXNWEF6ll8%2BH9oER34KlZQ%3D%3D&trackingId=edRU0F3X8lIyNVf3CDtnvA%3D%3D')"
   ]
  },
  {
   "cell_type": "code",
   "execution_count": 6,
   "metadata": {},
   "outputs": [
    {
     "ename": "KeyboardInterrupt",
     "evalue": "",
     "output_type": "error",
     "traceback": [
      "\u001b[1;31m---------------------------------------------------------------------------\u001b[0m",
      "\u001b[1;31mKeyboardInterrupt\u001b[0m                         Traceback (most recent call last)",
      "Cell \u001b[1;32mIn[6], line 5\u001b[0m\n\u001b[0;32m      3\u001b[0m companies \u001b[38;5;241m=\u001b[39m []\n\u001b[0;32m      4\u001b[0m \u001b[38;5;66;03m#Find all jobs\u001b[39;00m\n\u001b[1;32m----> 5\u001b[0m all_jobs \u001b[38;5;241m=\u001b[39m driver\u001b[38;5;241m.\u001b[39mfind_elements(By\u001b[38;5;241m.\u001b[39mCLASS_NAME, \u001b[38;5;124m'\u001b[39m\u001b[38;5;124mfull-width.artdeco-entity-lockup__title.ember-view\u001b[39m\u001b[38;5;124m'\u001b[39m)\n\u001b[0;32m      6\u001b[0m \u001b[38;5;28;01mfor\u001b[39;00m job \u001b[38;5;129;01min\u001b[39;00m all_jobs:\n\u001b[0;32m      7\u001b[0m     \u001b[38;5;28;01mtry\u001b[39;00m:\n",
      "File \u001b[1;32mc:\\Users\\info\\anaconda3\\Lib\\site-packages\\selenium\\webdriver\\remote\\webdriver.py:1005\u001b[0m, in \u001b[0;36mWebDriver.find_elements\u001b[1;34m(self, by, value)\u001b[0m\n\u001b[0;32m   1001\u001b[0m         value \u001b[38;5;241m=\u001b[39m \u001b[38;5;124m'\u001b[39m\u001b[38;5;124m[name=\u001b[39m\u001b[38;5;124m\"\u001b[39m\u001b[38;5;132;01m%s\u001b[39;00m\u001b[38;5;124m\"\u001b[39m\u001b[38;5;124m]\u001b[39m\u001b[38;5;124m'\u001b[39m \u001b[38;5;241m%\u001b[39m value\n\u001b[0;32m   1003\u001b[0m \u001b[38;5;66;03m# Return empty list if driver returns null\u001b[39;00m\n\u001b[0;32m   1004\u001b[0m \u001b[38;5;66;03m# See https://github.com/SeleniumHQ/selenium/issues/4555\u001b[39;00m\n\u001b[1;32m-> 1005\u001b[0m \u001b[38;5;28;01mreturn\u001b[39;00m \u001b[38;5;28mself\u001b[39m\u001b[38;5;241m.\u001b[39mexecute(Command\u001b[38;5;241m.\u001b[39mFIND_ELEMENTS, {\n\u001b[0;32m   1006\u001b[0m     \u001b[38;5;124m'\u001b[39m\u001b[38;5;124musing\u001b[39m\u001b[38;5;124m'\u001b[39m: by,\n\u001b[0;32m   1007\u001b[0m     \u001b[38;5;124m'\u001b[39m\u001b[38;5;124mvalue\u001b[39m\u001b[38;5;124m'\u001b[39m: value})[\u001b[38;5;124m'\u001b[39m\u001b[38;5;124mvalue\u001b[39m\u001b[38;5;124m'\u001b[39m] \u001b[38;5;129;01mor\u001b[39;00m []\n",
      "File \u001b[1;32mc:\\Users\\info\\anaconda3\\Lib\\site-packages\\selenium\\webdriver\\remote\\webdriver.py:319\u001b[0m, in \u001b[0;36mWebDriver.execute\u001b[1;34m(self, driver_command, params)\u001b[0m\n\u001b[0;32m    316\u001b[0m         params[\u001b[38;5;124m'\u001b[39m\u001b[38;5;124msessionId\u001b[39m\u001b[38;5;124m'\u001b[39m] \u001b[38;5;241m=\u001b[39m \u001b[38;5;28mself\u001b[39m\u001b[38;5;241m.\u001b[39msession_id\n\u001b[0;32m    318\u001b[0m params \u001b[38;5;241m=\u001b[39m \u001b[38;5;28mself\u001b[39m\u001b[38;5;241m.\u001b[39m_wrap_value(params)\n\u001b[1;32m--> 319\u001b[0m response \u001b[38;5;241m=\u001b[39m \u001b[38;5;28mself\u001b[39m\u001b[38;5;241m.\u001b[39mcommand_executor\u001b[38;5;241m.\u001b[39mexecute(driver_command, params)\n\u001b[0;32m    320\u001b[0m \u001b[38;5;28;01mif\u001b[39;00m response:\n\u001b[0;32m    321\u001b[0m     \u001b[38;5;28mself\u001b[39m\u001b[38;5;241m.\u001b[39merror_handler\u001b[38;5;241m.\u001b[39mcheck_response(response)\n",
      "File \u001b[1;32mc:\\Users\\info\\anaconda3\\Lib\\site-packages\\selenium\\webdriver\\remote\\remote_connection.py:374\u001b[0m, in \u001b[0;36mRemoteConnection.execute\u001b[1;34m(self, command, params)\u001b[0m\n\u001b[0;32m    372\u001b[0m data \u001b[38;5;241m=\u001b[39m utils\u001b[38;5;241m.\u001b[39mdump_json(params)\n\u001b[0;32m    373\u001b[0m url \u001b[38;5;241m=\u001b[39m \u001b[38;5;124m'\u001b[39m\u001b[38;5;132;01m%s\u001b[39;00m\u001b[38;5;132;01m%s\u001b[39;00m\u001b[38;5;124m'\u001b[39m \u001b[38;5;241m%\u001b[39m (\u001b[38;5;28mself\u001b[39m\u001b[38;5;241m.\u001b[39m_url, path)\n\u001b[1;32m--> 374\u001b[0m \u001b[38;5;28;01mreturn\u001b[39;00m \u001b[38;5;28mself\u001b[39m\u001b[38;5;241m.\u001b[39m_request(command_info[\u001b[38;5;241m0\u001b[39m], url, body\u001b[38;5;241m=\u001b[39mdata)\n",
      "File \u001b[1;32mc:\\Users\\info\\anaconda3\\Lib\\site-packages\\selenium\\webdriver\\remote\\remote_connection.py:402\u001b[0m, in \u001b[0;36mRemoteConnection._request\u001b[1;34m(self, method, url, body)\u001b[0m\n\u001b[0;32m    400\u001b[0m \u001b[38;5;28;01melse\u001b[39;00m:\n\u001b[0;32m    401\u001b[0m     http \u001b[38;5;241m=\u001b[39m urllib3\u001b[38;5;241m.\u001b[39mPoolManager(timeout\u001b[38;5;241m=\u001b[39m\u001b[38;5;28mself\u001b[39m\u001b[38;5;241m.\u001b[39m_timeout)\n\u001b[1;32m--> 402\u001b[0m     resp \u001b[38;5;241m=\u001b[39m http\u001b[38;5;241m.\u001b[39mrequest(method, url, body\u001b[38;5;241m=\u001b[39mbody, headers\u001b[38;5;241m=\u001b[39mheaders)\n\u001b[0;32m    404\u001b[0m     statuscode \u001b[38;5;241m=\u001b[39m resp\u001b[38;5;241m.\u001b[39mstatus\n\u001b[0;32m    405\u001b[0m     \u001b[38;5;28;01mif\u001b[39;00m \u001b[38;5;129;01mnot\u001b[39;00m \u001b[38;5;28mhasattr\u001b[39m(resp, \u001b[38;5;124m'\u001b[39m\u001b[38;5;124mgetheader\u001b[39m\u001b[38;5;124m'\u001b[39m):\n",
      "File \u001b[1;32mc:\\Users\\info\\anaconda3\\Lib\\site-packages\\urllib3\\request.py:78\u001b[0m, in \u001b[0;36mRequestMethods.request\u001b[1;34m(self, method, url, fields, headers, **urlopen_kw)\u001b[0m\n\u001b[0;32m     74\u001b[0m     \u001b[38;5;28;01mreturn\u001b[39;00m \u001b[38;5;28mself\u001b[39m\u001b[38;5;241m.\u001b[39mrequest_encode_url(\n\u001b[0;32m     75\u001b[0m         method, url, fields\u001b[38;5;241m=\u001b[39mfields, headers\u001b[38;5;241m=\u001b[39mheaders, \u001b[38;5;241m*\u001b[39m\u001b[38;5;241m*\u001b[39murlopen_kw\n\u001b[0;32m     76\u001b[0m     )\n\u001b[0;32m     77\u001b[0m \u001b[38;5;28;01melse\u001b[39;00m:\n\u001b[1;32m---> 78\u001b[0m     \u001b[38;5;28;01mreturn\u001b[39;00m \u001b[38;5;28mself\u001b[39m\u001b[38;5;241m.\u001b[39mrequest_encode_body(\n\u001b[0;32m     79\u001b[0m         method, url, fields\u001b[38;5;241m=\u001b[39mfields, headers\u001b[38;5;241m=\u001b[39mheaders, \u001b[38;5;241m*\u001b[39m\u001b[38;5;241m*\u001b[39murlopen_kw\n\u001b[0;32m     80\u001b[0m     )\n",
      "File \u001b[1;32mc:\\Users\\info\\anaconda3\\Lib\\site-packages\\urllib3\\request.py:170\u001b[0m, in \u001b[0;36mRequestMethods.request_encode_body\u001b[1;34m(self, method, url, fields, headers, encode_multipart, multipart_boundary, **urlopen_kw)\u001b[0m\n\u001b[0;32m    167\u001b[0m extra_kw[\u001b[38;5;124m\"\u001b[39m\u001b[38;5;124mheaders\u001b[39m\u001b[38;5;124m\"\u001b[39m]\u001b[38;5;241m.\u001b[39mupdate(headers)\n\u001b[0;32m    168\u001b[0m extra_kw\u001b[38;5;241m.\u001b[39mupdate(urlopen_kw)\n\u001b[1;32m--> 170\u001b[0m \u001b[38;5;28;01mreturn\u001b[39;00m \u001b[38;5;28mself\u001b[39m\u001b[38;5;241m.\u001b[39murlopen(method, url, \u001b[38;5;241m*\u001b[39m\u001b[38;5;241m*\u001b[39mextra_kw)\n",
      "File \u001b[1;32mc:\\Users\\info\\anaconda3\\Lib\\site-packages\\urllib3\\poolmanager.py:376\u001b[0m, in \u001b[0;36mPoolManager.urlopen\u001b[1;34m(self, method, url, redirect, **kw)\u001b[0m\n\u001b[0;32m    374\u001b[0m     response \u001b[38;5;241m=\u001b[39m conn\u001b[38;5;241m.\u001b[39murlopen(method, url, \u001b[38;5;241m*\u001b[39m\u001b[38;5;241m*\u001b[39mkw)\n\u001b[0;32m    375\u001b[0m \u001b[38;5;28;01melse\u001b[39;00m:\n\u001b[1;32m--> 376\u001b[0m     response \u001b[38;5;241m=\u001b[39m conn\u001b[38;5;241m.\u001b[39murlopen(method, u\u001b[38;5;241m.\u001b[39mrequest_uri, \u001b[38;5;241m*\u001b[39m\u001b[38;5;241m*\u001b[39mkw)\n\u001b[0;32m    378\u001b[0m redirect_location \u001b[38;5;241m=\u001b[39m redirect \u001b[38;5;129;01mand\u001b[39;00m response\u001b[38;5;241m.\u001b[39mget_redirect_location()\n\u001b[0;32m    379\u001b[0m \u001b[38;5;28;01mif\u001b[39;00m \u001b[38;5;129;01mnot\u001b[39;00m redirect_location:\n",
      "File \u001b[1;32mc:\\Users\\info\\anaconda3\\Lib\\site-packages\\urllib3\\connectionpool.py:714\u001b[0m, in \u001b[0;36mHTTPConnectionPool.urlopen\u001b[1;34m(self, method, url, body, headers, retries, redirect, assert_same_host, timeout, pool_timeout, release_conn, chunked, body_pos, **response_kw)\u001b[0m\n\u001b[0;32m    711\u001b[0m     \u001b[38;5;28mself\u001b[39m\u001b[38;5;241m.\u001b[39m_prepare_proxy(conn)\n\u001b[0;32m    713\u001b[0m \u001b[38;5;66;03m# Make the request on the httplib connection object.\u001b[39;00m\n\u001b[1;32m--> 714\u001b[0m httplib_response \u001b[38;5;241m=\u001b[39m \u001b[38;5;28mself\u001b[39m\u001b[38;5;241m.\u001b[39m_make_request(\n\u001b[0;32m    715\u001b[0m     conn,\n\u001b[0;32m    716\u001b[0m     method,\n\u001b[0;32m    717\u001b[0m     url,\n\u001b[0;32m    718\u001b[0m     timeout\u001b[38;5;241m=\u001b[39mtimeout_obj,\n\u001b[0;32m    719\u001b[0m     body\u001b[38;5;241m=\u001b[39mbody,\n\u001b[0;32m    720\u001b[0m     headers\u001b[38;5;241m=\u001b[39mheaders,\n\u001b[0;32m    721\u001b[0m     chunked\u001b[38;5;241m=\u001b[39mchunked,\n\u001b[0;32m    722\u001b[0m )\n\u001b[0;32m    724\u001b[0m \u001b[38;5;66;03m# If we're going to release the connection in ``finally:``, then\u001b[39;00m\n\u001b[0;32m    725\u001b[0m \u001b[38;5;66;03m# the response doesn't need to know about the connection. Otherwise\u001b[39;00m\n\u001b[0;32m    726\u001b[0m \u001b[38;5;66;03m# it will also try to release it and we'll have a double-release\u001b[39;00m\n\u001b[0;32m    727\u001b[0m \u001b[38;5;66;03m# mess.\u001b[39;00m\n\u001b[0;32m    728\u001b[0m response_conn \u001b[38;5;241m=\u001b[39m conn \u001b[38;5;28;01mif\u001b[39;00m \u001b[38;5;129;01mnot\u001b[39;00m release_conn \u001b[38;5;28;01melse\u001b[39;00m \u001b[38;5;28;01mNone\u001b[39;00m\n",
      "File \u001b[1;32mc:\\Users\\info\\anaconda3\\Lib\\site-packages\\urllib3\\connectionpool.py:466\u001b[0m, in \u001b[0;36mHTTPConnectionPool._make_request\u001b[1;34m(self, conn, method, url, timeout, chunked, **httplib_request_kw)\u001b[0m\n\u001b[0;32m    461\u001b[0m             httplib_response \u001b[38;5;241m=\u001b[39m conn\u001b[38;5;241m.\u001b[39mgetresponse()\n\u001b[0;32m    462\u001b[0m         \u001b[38;5;28;01mexcept\u001b[39;00m \u001b[38;5;167;01mBaseException\u001b[39;00m \u001b[38;5;28;01mas\u001b[39;00m e:\n\u001b[0;32m    463\u001b[0m             \u001b[38;5;66;03m# Remove the TypeError from the exception chain in\u001b[39;00m\n\u001b[0;32m    464\u001b[0m             \u001b[38;5;66;03m# Python 3 (including for exceptions like SystemExit).\u001b[39;00m\n\u001b[0;32m    465\u001b[0m             \u001b[38;5;66;03m# Otherwise it looks like a bug in the code.\u001b[39;00m\n\u001b[1;32m--> 466\u001b[0m             six\u001b[38;5;241m.\u001b[39mraise_from(e, \u001b[38;5;28;01mNone\u001b[39;00m)\n\u001b[0;32m    467\u001b[0m \u001b[38;5;28;01mexcept\u001b[39;00m (SocketTimeout, BaseSSLError, SocketError) \u001b[38;5;28;01mas\u001b[39;00m e:\n\u001b[0;32m    468\u001b[0m     \u001b[38;5;28mself\u001b[39m\u001b[38;5;241m.\u001b[39m_raise_timeout(err\u001b[38;5;241m=\u001b[39me, url\u001b[38;5;241m=\u001b[39murl, timeout_value\u001b[38;5;241m=\u001b[39mread_timeout)\n",
      "File \u001b[1;32m<string>:3\u001b[0m, in \u001b[0;36mraise_from\u001b[1;34m(value, from_value)\u001b[0m\n",
      "File \u001b[1;32mc:\\Users\\info\\anaconda3\\Lib\\site-packages\\urllib3\\connectionpool.py:461\u001b[0m, in \u001b[0;36mHTTPConnectionPool._make_request\u001b[1;34m(self, conn, method, url, timeout, chunked, **httplib_request_kw)\u001b[0m\n\u001b[0;32m    458\u001b[0m \u001b[38;5;28;01mexcept\u001b[39;00m \u001b[38;5;167;01mTypeError\u001b[39;00m:\n\u001b[0;32m    459\u001b[0m     \u001b[38;5;66;03m# Python 3\u001b[39;00m\n\u001b[0;32m    460\u001b[0m     \u001b[38;5;28;01mtry\u001b[39;00m:\n\u001b[1;32m--> 461\u001b[0m         httplib_response \u001b[38;5;241m=\u001b[39m conn\u001b[38;5;241m.\u001b[39mgetresponse()\n\u001b[0;32m    462\u001b[0m     \u001b[38;5;28;01mexcept\u001b[39;00m \u001b[38;5;167;01mBaseException\u001b[39;00m \u001b[38;5;28;01mas\u001b[39;00m e:\n\u001b[0;32m    463\u001b[0m         \u001b[38;5;66;03m# Remove the TypeError from the exception chain in\u001b[39;00m\n\u001b[0;32m    464\u001b[0m         \u001b[38;5;66;03m# Python 3 (including for exceptions like SystemExit).\u001b[39;00m\n\u001b[0;32m    465\u001b[0m         \u001b[38;5;66;03m# Otherwise it looks like a bug in the code.\u001b[39;00m\n\u001b[0;32m    466\u001b[0m         six\u001b[38;5;241m.\u001b[39mraise_from(e, \u001b[38;5;28;01mNone\u001b[39;00m)\n",
      "File \u001b[1;32mc:\\Users\\info\\anaconda3\\Lib\\http\\client.py:1378\u001b[0m, in \u001b[0;36mHTTPConnection.getresponse\u001b[1;34m(self)\u001b[0m\n\u001b[0;32m   1376\u001b[0m \u001b[38;5;28;01mtry\u001b[39;00m:\n\u001b[0;32m   1377\u001b[0m     \u001b[38;5;28;01mtry\u001b[39;00m:\n\u001b[1;32m-> 1378\u001b[0m         response\u001b[38;5;241m.\u001b[39mbegin()\n\u001b[0;32m   1379\u001b[0m     \u001b[38;5;28;01mexcept\u001b[39;00m \u001b[38;5;167;01mConnectionError\u001b[39;00m:\n\u001b[0;32m   1380\u001b[0m         \u001b[38;5;28mself\u001b[39m\u001b[38;5;241m.\u001b[39mclose()\n",
      "File \u001b[1;32mc:\\Users\\info\\anaconda3\\Lib\\http\\client.py:318\u001b[0m, in \u001b[0;36mHTTPResponse.begin\u001b[1;34m(self)\u001b[0m\n\u001b[0;32m    316\u001b[0m \u001b[38;5;66;03m# read until we get a non-100 response\u001b[39;00m\n\u001b[0;32m    317\u001b[0m \u001b[38;5;28;01mwhile\u001b[39;00m \u001b[38;5;28;01mTrue\u001b[39;00m:\n\u001b[1;32m--> 318\u001b[0m     version, status, reason \u001b[38;5;241m=\u001b[39m \u001b[38;5;28mself\u001b[39m\u001b[38;5;241m.\u001b[39m_read_status()\n\u001b[0;32m    319\u001b[0m     \u001b[38;5;28;01mif\u001b[39;00m status \u001b[38;5;241m!=\u001b[39m CONTINUE:\n\u001b[0;32m    320\u001b[0m         \u001b[38;5;28;01mbreak\u001b[39;00m\n",
      "File \u001b[1;32mc:\\Users\\info\\anaconda3\\Lib\\http\\client.py:279\u001b[0m, in \u001b[0;36mHTTPResponse._read_status\u001b[1;34m(self)\u001b[0m\n\u001b[0;32m    278\u001b[0m \u001b[38;5;28;01mdef\u001b[39;00m \u001b[38;5;21m_read_status\u001b[39m(\u001b[38;5;28mself\u001b[39m):\n\u001b[1;32m--> 279\u001b[0m     line \u001b[38;5;241m=\u001b[39m \u001b[38;5;28mstr\u001b[39m(\u001b[38;5;28mself\u001b[39m\u001b[38;5;241m.\u001b[39mfp\u001b[38;5;241m.\u001b[39mreadline(_MAXLINE \u001b[38;5;241m+\u001b[39m \u001b[38;5;241m1\u001b[39m), \u001b[38;5;124m\"\u001b[39m\u001b[38;5;124miso-8859-1\u001b[39m\u001b[38;5;124m\"\u001b[39m)\n\u001b[0;32m    280\u001b[0m     \u001b[38;5;28;01mif\u001b[39;00m \u001b[38;5;28mlen\u001b[39m(line) \u001b[38;5;241m>\u001b[39m _MAXLINE:\n\u001b[0;32m    281\u001b[0m         \u001b[38;5;28;01mraise\u001b[39;00m LineTooLong(\u001b[38;5;124m\"\u001b[39m\u001b[38;5;124mstatus line\u001b[39m\u001b[38;5;124m\"\u001b[39m)\n",
      "File \u001b[1;32mc:\\Users\\info\\anaconda3\\Lib\\socket.py:706\u001b[0m, in \u001b[0;36mSocketIO.readinto\u001b[1;34m(self, b)\u001b[0m\n\u001b[0;32m    704\u001b[0m \u001b[38;5;28;01mwhile\u001b[39;00m \u001b[38;5;28;01mTrue\u001b[39;00m:\n\u001b[0;32m    705\u001b[0m     \u001b[38;5;28;01mtry\u001b[39;00m:\n\u001b[1;32m--> 706\u001b[0m         \u001b[38;5;28;01mreturn\u001b[39;00m \u001b[38;5;28mself\u001b[39m\u001b[38;5;241m.\u001b[39m_sock\u001b[38;5;241m.\u001b[39mrecv_into(b)\n\u001b[0;32m    707\u001b[0m     \u001b[38;5;28;01mexcept\u001b[39;00m timeout:\n\u001b[0;32m    708\u001b[0m         \u001b[38;5;28mself\u001b[39m\u001b[38;5;241m.\u001b[39m_timeout_occurred \u001b[38;5;241m=\u001b[39m \u001b[38;5;28;01mTrue\u001b[39;00m\n",
      "\u001b[1;31mKeyboardInterrupt\u001b[0m: "
     ]
    }
   ],
   "source": [
    "jobs = []\n",
    "cities = []\n",
    "companies = []\n",
    "#Find all jobs\n",
    "all_jobs = driver.find_elements(By.CLASS_NAME, 'full-width.artdeco-entity-lockup__title.ember-view')\n",
    "for job in all_jobs:\n",
    "    try:\n",
    "       job_title = job.find_element(By.TAG_NAME, 'strong').text\n",
    "       jobs.append(job_title)\n",
    "\n",
    "       #company=job.find_element_by_class_name('job-card-container__primary-description').text\n",
    "       #companies.append(company)\n",
    "\n",
    "       city = job.find_element_by_class_name('job-card-container__metadata-item')\n",
    "       cities.append(city)\n",
    "    except IndexError:\n",
    "        print('done')"
   ]
  },
  {
   "cell_type": "code",
   "execution_count": null,
   "metadata": {},
   "outputs": [
    {
     "name": "stdout",
     "output_type": "stream",
     "text": [
      "[[<selenium.webdriver.remote.webelement.WebElement (session=\"cb2fb488943ed92916e78cb4aaca8181\", element=\"A06E7864A29B7F35A9379260827E8051_element_1204\")>, <selenium.webdriver.remote.webelement.WebElement (session=\"cb2fb488943ed92916e78cb4aaca8181\", element=\"A06E7864A29B7F35A9379260827E8051_element_1205\")>, <selenium.webdriver.remote.webelement.WebElement (session=\"cb2fb488943ed92916e78cb4aaca8181\", element=\"A06E7864A29B7F35A9379260827E8051_element_1206\")>, <selenium.webdriver.remote.webelement.WebElement (session=\"cb2fb488943ed92916e78cb4aaca8181\", element=\"A06E7864A29B7F35A9379260827E8051_element_1207\")>, <selenium.webdriver.remote.webelement.WebElement (session=\"cb2fb488943ed92916e78cb4aaca8181\", element=\"A06E7864A29B7F35A9379260827E8051_element_1208\")>, <selenium.webdriver.remote.webelement.WebElement (session=\"cb2fb488943ed92916e78cb4aaca8181\", element=\"A06E7864A29B7F35A9379260827E8051_element_1209\")>, <selenium.webdriver.remote.webelement.WebElement (session=\"cb2fb488943ed92916e78cb4aaca8181\", element=\"A06E7864A29B7F35A9379260827E8051_element_1210\")>], [<selenium.webdriver.remote.webelement.WebElement (session=\"cb2fb488943ed92916e78cb4aaca8181\", element=\"A06E7864A29B7F35A9379260827E8051_element_1204\")>, <selenium.webdriver.remote.webelement.WebElement (session=\"cb2fb488943ed92916e78cb4aaca8181\", element=\"A06E7864A29B7F35A9379260827E8051_element_1205\")>, <selenium.webdriver.remote.webelement.WebElement (session=\"cb2fb488943ed92916e78cb4aaca8181\", element=\"A06E7864A29B7F35A9379260827E8051_element_1206\")>, <selenium.webdriver.remote.webelement.WebElement (session=\"cb2fb488943ed92916e78cb4aaca8181\", element=\"A06E7864A29B7F35A9379260827E8051_element_1207\")>, <selenium.webdriver.remote.webelement.WebElement (session=\"cb2fb488943ed92916e78cb4aaca8181\", element=\"A06E7864A29B7F35A9379260827E8051_element_1208\")>, <selenium.webdriver.remote.webelement.WebElement (session=\"cb2fb488943ed92916e78cb4aaca8181\", element=\"A06E7864A29B7F35A9379260827E8051_element_1209\")>, <selenium.webdriver.remote.webelement.WebElement (session=\"cb2fb488943ed92916e78cb4aaca8181\", element=\"A06E7864A29B7F35A9379260827E8051_element_1210\")>], [<selenium.webdriver.remote.webelement.WebElement (session=\"cb2fb488943ed92916e78cb4aaca8181\", element=\"A06E7864A29B7F35A9379260827E8051_element_1204\")>, <selenium.webdriver.remote.webelement.WebElement (session=\"cb2fb488943ed92916e78cb4aaca8181\", element=\"A06E7864A29B7F35A9379260827E8051_element_1205\")>, <selenium.webdriver.remote.webelement.WebElement (session=\"cb2fb488943ed92916e78cb4aaca8181\", element=\"A06E7864A29B7F35A9379260827E8051_element_1206\")>, <selenium.webdriver.remote.webelement.WebElement (session=\"cb2fb488943ed92916e78cb4aaca8181\", element=\"A06E7864A29B7F35A9379260827E8051_element_1207\")>, <selenium.webdriver.remote.webelement.WebElement (session=\"cb2fb488943ed92916e78cb4aaca8181\", element=\"A06E7864A29B7F35A9379260827E8051_element_1208\")>, <selenium.webdriver.remote.webelement.WebElement (session=\"cb2fb488943ed92916e78cb4aaca8181\", element=\"A06E7864A29B7F35A9379260827E8051_element_1209\")>, <selenium.webdriver.remote.webelement.WebElement (session=\"cb2fb488943ed92916e78cb4aaca8181\", element=\"A06E7864A29B7F35A9379260827E8051_element_1210\")>], [<selenium.webdriver.remote.webelement.WebElement (session=\"cb2fb488943ed92916e78cb4aaca8181\", element=\"A06E7864A29B7F35A9379260827E8051_element_1204\")>, <selenium.webdriver.remote.webelement.WebElement (session=\"cb2fb488943ed92916e78cb4aaca8181\", element=\"A06E7864A29B7F35A9379260827E8051_element_1205\")>, <selenium.webdriver.remote.webelement.WebElement (session=\"cb2fb488943ed92916e78cb4aaca8181\", element=\"A06E7864A29B7F35A9379260827E8051_element_1206\")>, <selenium.webdriver.remote.webelement.WebElement (session=\"cb2fb488943ed92916e78cb4aaca8181\", element=\"A06E7864A29B7F35A9379260827E8051_element_1207\")>, <selenium.webdriver.remote.webelement.WebElement (session=\"cb2fb488943ed92916e78cb4aaca8181\", element=\"A06E7864A29B7F35A9379260827E8051_element_1208\")>, <selenium.webdriver.remote.webelement.WebElement (session=\"cb2fb488943ed92916e78cb4aaca8181\", element=\"A06E7864A29B7F35A9379260827E8051_element_1209\")>, <selenium.webdriver.remote.webelement.WebElement (session=\"cb2fb488943ed92916e78cb4aaca8181\", element=\"A06E7864A29B7F35A9379260827E8051_element_1210\")>], [<selenium.webdriver.remote.webelement.WebElement (session=\"cb2fb488943ed92916e78cb4aaca8181\", element=\"A06E7864A29B7F35A9379260827E8051_element_1204\")>, <selenium.webdriver.remote.webelement.WebElement (session=\"cb2fb488943ed92916e78cb4aaca8181\", element=\"A06E7864A29B7F35A9379260827E8051_element_1205\")>, <selenium.webdriver.remote.webelement.WebElement (session=\"cb2fb488943ed92916e78cb4aaca8181\", element=\"A06E7864A29B7F35A9379260827E8051_element_1206\")>, <selenium.webdriver.remote.webelement.WebElement (session=\"cb2fb488943ed92916e78cb4aaca8181\", element=\"A06E7864A29B7F35A9379260827E8051_element_1207\")>, <selenium.webdriver.remote.webelement.WebElement (session=\"cb2fb488943ed92916e78cb4aaca8181\", element=\"A06E7864A29B7F35A9379260827E8051_element_1208\")>, <selenium.webdriver.remote.webelement.WebElement (session=\"cb2fb488943ed92916e78cb4aaca8181\", element=\"A06E7864A29B7F35A9379260827E8051_element_1209\")>, <selenium.webdriver.remote.webelement.WebElement (session=\"cb2fb488943ed92916e78cb4aaca8181\", element=\"A06E7864A29B7F35A9379260827E8051_element_1210\")>], [<selenium.webdriver.remote.webelement.WebElement (session=\"cb2fb488943ed92916e78cb4aaca8181\", element=\"A06E7864A29B7F35A9379260827E8051_element_1204\")>, <selenium.webdriver.remote.webelement.WebElement (session=\"cb2fb488943ed92916e78cb4aaca8181\", element=\"A06E7864A29B7F35A9379260827E8051_element_1205\")>, <selenium.webdriver.remote.webelement.WebElement (session=\"cb2fb488943ed92916e78cb4aaca8181\", element=\"A06E7864A29B7F35A9379260827E8051_element_1206\")>, <selenium.webdriver.remote.webelement.WebElement (session=\"cb2fb488943ed92916e78cb4aaca8181\", element=\"A06E7864A29B7F35A9379260827E8051_element_1207\")>, <selenium.webdriver.remote.webelement.WebElement (session=\"cb2fb488943ed92916e78cb4aaca8181\", element=\"A06E7864A29B7F35A9379260827E8051_element_1208\")>, <selenium.webdriver.remote.webelement.WebElement (session=\"cb2fb488943ed92916e78cb4aaca8181\", element=\"A06E7864A29B7F35A9379260827E8051_element_1209\")>, <selenium.webdriver.remote.webelement.WebElement (session=\"cb2fb488943ed92916e78cb4aaca8181\", element=\"A06E7864A29B7F35A9379260827E8051_element_1210\")>], [<selenium.webdriver.remote.webelement.WebElement (session=\"cb2fb488943ed92916e78cb4aaca8181\", element=\"A06E7864A29B7F35A9379260827E8051_element_1204\")>, <selenium.webdriver.remote.webelement.WebElement (session=\"cb2fb488943ed92916e78cb4aaca8181\", element=\"A06E7864A29B7F35A9379260827E8051_element_1205\")>, <selenium.webdriver.remote.webelement.WebElement (session=\"cb2fb488943ed92916e78cb4aaca8181\", element=\"A06E7864A29B7F35A9379260827E8051_element_1206\")>, <selenium.webdriver.remote.webelement.WebElement (session=\"cb2fb488943ed92916e78cb4aaca8181\", element=\"A06E7864A29B7F35A9379260827E8051_element_1207\")>, <selenium.webdriver.remote.webelement.WebElement (session=\"cb2fb488943ed92916e78cb4aaca8181\", element=\"A06E7864A29B7F35A9379260827E8051_element_1208\")>, <selenium.webdriver.remote.webelement.WebElement (session=\"cb2fb488943ed92916e78cb4aaca8181\", element=\"A06E7864A29B7F35A9379260827E8051_element_1209\")>, <selenium.webdriver.remote.webelement.WebElement (session=\"cb2fb488943ed92916e78cb4aaca8181\", element=\"A06E7864A29B7F35A9379260827E8051_element_1210\")>]]\n",
      "[]\n",
      "['Consultant Expérimenté Software Asset Management (IBM, Microsoft, ServiceNow..) (H/F)', 'Senior Java Software Engineer', 'Ingénieure Full Stack JAVA JEE Senior', 'Leader Technique Dot Net (F/H)', 'Développeur SalesForce F/H', 'Téléconseillers Francophones ', 'Business Analyst IT / PPO e-commerce (F/H)']\n"
     ]
    }
   ],
   "source": [
    "print(cities)\n",
    "print(companies)\n",
    "print(jobs)"
   ]
  },
  {
   "cell_type": "code",
   "execution_count": null,
   "metadata": {},
   "outputs": [],
   "source": [
    "#Continue schrolling in page(see more jobs)\n",
    "i=2\n",
    "while i<7:\n",
    "    driver.excecute_script(\"window.scrollTo(0,document.body.scrollHeight);\")\n",
    "    i+=1\n",
    "    try:\n",
    "        x=driver.find_element_by_xpath(\"//button[@aria-label='Page 2']\")"
   ]
  },
  {
   "cell_type": "code",
   "execution_count": 9,
   "metadata": {},
   "outputs": [],
   "source": [
    "\n",
    "#find number of jobs + convert to numeric using pandas\n",
    "\n",
    "#Continue schrolling in page(see more jobs)\n",
    "\n",
    "#Company name\n",
    "\n",
    "#Job title\n",
    "#job = soup.find('li',class_='discovery-templates-entity-item list-style-none')\n",
    "\n",
    "#Put comapny name and title job in DataFrame\n",
    "\n",
    "#save it as csv file"
   ]
  }
 ],
 "metadata": {
  "kernelspec": {
   "display_name": "base",
   "language": "python",
   "name": "python3"
  },
  "language_info": {
   "codemirror_mode": {
    "name": "ipython",
    "version": 3
   },
   "file_extension": ".py",
   "mimetype": "text/x-python",
   "name": "python",
   "nbconvert_exporter": "python",
   "pygments_lexer": "ipython3",
   "version": "3.11.5"
  }
 },
 "nbformat": 4,
 "nbformat_minor": 2
}
