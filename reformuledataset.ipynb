{
 "cells": [
  {
   "cell_type": "code",
   "execution_count": 1,
   "metadata": {},
   "outputs": [],
   "source": [
    "import numpy as np\n",
    "import pandas as pd\n",
    "import matplotlib.pyplot as plt"
   ]
  },
  {
   "cell_type": "code",
   "execution_count": 23,
   "metadata": {},
   "outputs": [
    {
     "data": {
      "text/html": [
       "<div>\n",
       "<style scoped>\n",
       "    .dataframe tbody tr th:only-of-type {\n",
       "        vertical-align: middle;\n",
       "    }\n",
       "\n",
       "    .dataframe tbody tr th {\n",
       "        vertical-align: top;\n",
       "    }\n",
       "\n",
       "    .dataframe thead th {\n",
       "        text-align: right;\n",
       "    }\n",
       "</style>\n",
       "<table border=\"1\" class=\"dataframe\">\n",
       "  <thead>\n",
       "    <tr style=\"text-align: right;\">\n",
       "      <th></th>\n",
       "      <th>Job</th>\n",
       "      <th>Company</th>\n",
       "      <th>City</th>\n",
       "      <th>Work Type</th>\n",
       "      <th>Work Model</th>\n",
       "      <th>Salary</th>\n",
       "      <th>Experience Level</th>\n",
       "      <th>Skills</th>\n",
       "    </tr>\n",
       "  </thead>\n",
       "  <tbody>\n",
       "    <tr>\n",
       "      <th>0</th>\n",
       "      <td>Manager Data et Analytics F/H</td>\n",
       "      <td>Deloitte</td>\n",
       "      <td>Mechouar, Casablanca-Settat, Morocco (Hybrid)</td>\n",
       "      <td>Full-time</td>\n",
       "      <td>Hybrid</td>\n",
       "      <td>NaN</td>\n",
       "      <td>NaN</td>\n",
       "      <td>Coaching, DWH, ETL, Esprit, Microsoft Business...</td>\n",
       "    </tr>\n",
       "    <tr>\n",
       "      <th>1</th>\n",
       "      <td>Data Analyst Senior</td>\n",
       "      <td>Leyton</td>\n",
       "      <td>Casablanca Metropolitan Area (On-site)</td>\n",
       "      <td>Full-time</td>\n",
       "      <td>On-site</td>\n",
       "      <td>NaN</td>\n",
       "      <td>Mid-Senior level</td>\n",
       "      <td>CRM, Microsoft Excel, PowerPoint, Python, Sale...</td>\n",
       "    </tr>\n",
       "    <tr>\n",
       "      <th>2</th>\n",
       "      <td>Data Engineer F/H</td>\n",
       "      <td>Zenika</td>\n",
       "      <td>Casablanca Metropolitan Area (Hybrid)</td>\n",
       "      <td>Full-time</td>\n",
       "      <td>Hybrid</td>\n",
       "      <td>NaN</td>\n",
       "      <td>Mid-Senior level</td>\n",
       "      <td>Apache Kafka, Apache Spark, Google Cloud Platf...</td>\n",
       "    </tr>\n",
       "    <tr>\n",
       "      <th>3</th>\n",
       "      <td>Senior Data Scientist</td>\n",
       "      <td>Leyton</td>\n",
       "      <td>Casablanca-Settat, Morocco (Hybrid)</td>\n",
       "      <td>Full-time</td>\n",
       "      <td>Hybrid</td>\n",
       "      <td>NaN</td>\n",
       "      <td>Associate</td>\n",
       "      <td>Decision Trees, Linear Regression, Python, Sup...</td>\n",
       "    </tr>\n",
       "    <tr>\n",
       "      <th>4</th>\n",
       "      <td>Backend Senior Developer H/F - Casablanca</td>\n",
       "      <td>Eskimoz</td>\n",
       "      <td>Casablanca Metropolitan Area (Hybrid)</td>\n",
       "      <td>Full-time</td>\n",
       "      <td>Hybrid</td>\n",
       "      <td>NaN</td>\n",
       "      <td>Mid-Senior level</td>\n",
       "      <td>PHP, الإنجليزية, الاتصالات ثنائية اللغة, التوا...</td>\n",
       "    </tr>\n",
       "    <tr>\n",
       "      <th>...</th>\n",
       "      <td>...</td>\n",
       "      <td>...</td>\n",
       "      <td>...</td>\n",
       "      <td>...</td>\n",
       "      <td>...</td>\n",
       "      <td>...</td>\n",
       "      <td>...</td>\n",
       "      <td>...</td>\n",
       "    </tr>\n",
       "    <tr>\n",
       "      <th>95</th>\n",
       "      <td>Dev Fullstack Java/React</td>\n",
       "      <td>DXC Technology Morocco</td>\n",
       "      <td>Casablanca Metropolitan Area (Hybrid)</td>\n",
       "      <td>Full-time</td>\n",
       "      <td>Hybrid</td>\n",
       "      <td>NaN</td>\n",
       "      <td>Associate</td>\n",
       "      <td>DSI, الاتصالات, العمل الجماعي, الكشوف المالية,...</td>\n",
       "    </tr>\n",
       "    <tr>\n",
       "      <th>96</th>\n",
       "      <td>Project Manager</td>\n",
       "      <td>Orange Business Maroc</td>\n",
       "      <td>Casablanca Metropolitan Area (Hybrid)</td>\n",
       "      <td>Full-time</td>\n",
       "      <td>Hybrid</td>\n",
       "      <td>NaN</td>\n",
       "      <td>Associate</td>\n",
       "      <td>DAX, Microsoft Excel, Microsoft Power BI, and ...</td>\n",
       "    </tr>\n",
       "    <tr>\n",
       "      <th>97</th>\n",
       "      <td>Senior Cost Controller</td>\n",
       "      <td>JESA S.A</td>\n",
       "      <td>Casablanca, Casablanca-Settat, Morocco (Hybrid)</td>\n",
       "      <td>Full-time</td>\n",
       "      <td>Hybrid</td>\n",
       "      <td>NaN</td>\n",
       "      <td>Mid-Senior level</td>\n",
       "      <td>Angular, CMS, CSS, Git, HTML, JavaScript, Vue....</td>\n",
       "    </tr>\n",
       "    <tr>\n",
       "      <th>98</th>\n",
       "      <td>Stage Audit IT F/H</td>\n",
       "      <td>Deloitte</td>\n",
       "      <td>Mechouar, Casablanca-Settat, Morocco (Hybrid)</td>\n",
       "      <td>Mid-Senior level</td>\n",
       "      <td>Hybrid</td>\n",
       "      <td>NaN</td>\n",
       "      <td>Associate</td>\n",
       "      <td>Python, R, VBA, VBA Excel, and المالية</td>\n",
       "    </tr>\n",
       "    <tr>\n",
       "      <th>99</th>\n",
       "      <td>Report Designer (M/F)</td>\n",
       "      <td>Orange Business Maroc</td>\n",
       "      <td>Rabat, Rabat-Salé-Kenitra, Morocco (Hybrid)</td>\n",
       "      <td>Full-time</td>\n",
       "      <td>Hybrid</td>\n",
       "      <td>NaN</td>\n",
       "      <td>Mid-Senior level</td>\n",
       "      <td>Hypertext Transfer Protocol (HTTP), Iperf, L2T...</td>\n",
       "    </tr>\n",
       "  </tbody>\n",
       "</table>\n",
       "<p>100 rows × 8 columns</p>\n",
       "</div>"
      ],
      "text/plain": [
       "                                          Job                 Company  \\\n",
       "0               Manager Data et Analytics F/H                Deloitte   \n",
       "1                         Data Analyst Senior                  Leyton   \n",
       "2                           Data Engineer F/H                  Zenika   \n",
       "3                       Senior Data Scientist                  Leyton   \n",
       "4   Backend Senior Developer H/F - Casablanca                 Eskimoz   \n",
       "..                                        ...                     ...   \n",
       "95                   Dev Fullstack Java/React  DXC Technology Morocco   \n",
       "96                            Project Manager   Orange Business Maroc   \n",
       "97                     Senior Cost Controller                JESA S.A   \n",
       "98                         Stage Audit IT F/H                Deloitte   \n",
       "99                      Report Designer (M/F)   Orange Business Maroc   \n",
       "\n",
       "                                               City         Work Type  \\\n",
       "0     Mechouar, Casablanca-Settat, Morocco (Hybrid)         Full-time   \n",
       "1            Casablanca Metropolitan Area (On-site)         Full-time   \n",
       "2             Casablanca Metropolitan Area (Hybrid)         Full-time   \n",
       "3               Casablanca-Settat, Morocco (Hybrid)         Full-time   \n",
       "4             Casablanca Metropolitan Area (Hybrid)         Full-time   \n",
       "..                                              ...               ...   \n",
       "95            Casablanca Metropolitan Area (Hybrid)         Full-time   \n",
       "96            Casablanca Metropolitan Area (Hybrid)         Full-time   \n",
       "97  Casablanca, Casablanca-Settat, Morocco (Hybrid)         Full-time   \n",
       "98    Mechouar, Casablanca-Settat, Morocco (Hybrid)  Mid-Senior level   \n",
       "99      Rabat, Rabat-Salé-Kenitra, Morocco (Hybrid)         Full-time   \n",
       "\n",
       "   Work Model  Salary  Experience Level  \\\n",
       "0      Hybrid     NaN               NaN   \n",
       "1     On-site     NaN  Mid-Senior level   \n",
       "2      Hybrid     NaN  Mid-Senior level   \n",
       "3      Hybrid     NaN         Associate   \n",
       "4      Hybrid     NaN  Mid-Senior level   \n",
       "..        ...     ...               ...   \n",
       "95     Hybrid     NaN         Associate   \n",
       "96     Hybrid     NaN         Associate   \n",
       "97     Hybrid     NaN  Mid-Senior level   \n",
       "98     Hybrid     NaN         Associate   \n",
       "99     Hybrid     NaN  Mid-Senior level   \n",
       "\n",
       "                                               Skills  \n",
       "0   Coaching, DWH, ETL, Esprit, Microsoft Business...  \n",
       "1   CRM, Microsoft Excel, PowerPoint, Python, Sale...  \n",
       "2   Apache Kafka, Apache Spark, Google Cloud Platf...  \n",
       "3   Decision Trees, Linear Regression, Python, Sup...  \n",
       "4   PHP, الإنجليزية, الاتصالات ثنائية اللغة, التوا...  \n",
       "..                                                ...  \n",
       "95  DSI, الاتصالات, العمل الجماعي, الكشوف المالية,...  \n",
       "96  DAX, Microsoft Excel, Microsoft Power BI, and ...  \n",
       "97  Angular, CMS, CSS, Git, HTML, JavaScript, Vue....  \n",
       "98             Python, R, VBA, VBA Excel, and المالية  \n",
       "99  Hypertext Transfer Protocol (HTTP), Iperf, L2T...  \n",
       "\n",
       "[100 rows x 8 columns]"
      ]
     },
     "execution_count": 23,
     "metadata": {},
     "output_type": "execute_result"
    }
   ],
   "source": [
    "df = pd.read_csv(\"dataset.csv\")\n",
    "data = df.copy()\n",
    "data.head(100)"
   ]
  },
  {
   "cell_type": "code",
   "execution_count": 8,
   "metadata": {},
   "outputs": [
    {
     "name": "stdout",
     "output_type": "stream",
     "text": [
      "data\n"
     ]
    }
   ],
   "source": [
    "from googletrans import Translator\n",
    "text = 'البيانات'\n",
    "language = 'en'\n",
    "translator = Translator()\n",
    "translation = translator.translate(text, dest = language)\n",
    "print(translation.text)\n"
   ]
  },
  {
   "cell_type": "code",
   "execution_count": 19,
   "metadata": {},
   "outputs": [
    {
     "name": "stdout",
     "output_type": "stream",
     "text": [
      "['Coaching, DWH, ETL, Esprit, Microsoft Business Intelligence (MSBI), Oracle Data Integra (ODI), English as a second language, improvement, analyzes, and data analyzes', 'CRM, microsoft Excel, PowerPoint, Python, Salesforce.com, English, Communications, Economy, French, and Analytical Skills', 'Apache Kafka, Apache Spark, Google Cloud Plateform (GCP), kubernetes, nosql, big data, scola, charging and discharge factor, and Hadoub', 'Decision Trees, Linear Regression, Python, Support Vector Machine (SVM), Tensorflow, XGBOOST, English, Applied Mathematics, device programming, and data science', 'Php, English, bilateral communications, communication between people, French, improving search engines (SEO), network development for rear facades, dealing skills between people, database management system (DBMS), and Nod.', 'Statistics, analyzes, artificial intelligence, mathematics, applied mathematics, writing, institutional skills, device programming, data analyzes, user stories, and personal relationship skills', 'Ad hoc analysis, sql, statistics, big data, analyzes, astrology, mathematics, analytical skills, data analysis, and data analysis', 'Listen, Notepad, Technical Specs, Technical Documentation, Writing, Institutional Skills, Specifications, Information Technology, Request for Offers, and Databases', 'Costings, GXP, Microsoft Dynamics, Microsoft Dynamics 365, Microsoft Dynamics Erp, Technical SkillSet, Technical Specs, Technical Documentation, Job requirements, and Establishment of Institution Resources.', 'While', 'Explore, English, negotiation, teamwork, French, market search, business planning, business development, and new business development', 'Devops, Java, React.js, Spring Boot, Spring Framework, Difference Management, and fast methodologies', 'Oral Communication, English, Communications, Trade, Analytical Skills, Problem solving, and dealing between people', 'Technical Solution Design, English, Communications, Get data, presentations, institutional structure, data analyzes, data cleaning, problem solving, and data science', 'Python, VBA, English, Communications, Collective Work, Problem solving, and driving work teams', 'Azure Data Factory, Azure Databricks, Data Engineering, Communications, Data Storage, Data Cleaning, Data Science, Databases, Data Engineering, and Data Models Set', 'Etl, log management, service Focused, technology Intelligence, relationships with customers, job requirements, data governance, information technology governance, exchange, and data views', ',', 'Agile Leadership, Data Strategies, Business Strategies, Information Technology Strategy, Digital Strategy, English, Consulting, Digital Transformation, French, and Information Technology Transformation', 'CSS, Highchars, OOP, Technical Advisory, Development Tools, Software Development, Problem Solving, Business Requirements, Business Logic, and Program Publishing', 'JavaScript, Methodology, OOP, Pair Programing, Skill Development, Training Plans, Attention to Details, Operations, Employees Privileges, and Easy Ease', 'Network safety, network management, Igil, discovery and repair of errors, communications, communications, improvement, mechanization, network design, and network engineering', 'Mlops, Python, English, Communications, Programming, Teaching, French, Building Teams, Problem Solution, Natural Language Treatment', 'Angular, JavaScript, Nestjs, React.js, Typescript, Project Management, Communications, Driving, Monjudb program, and solve the problem interactively', 'Android, Angular, Continouous Integration and Continouous Delivery (CI/CD), Owasp, Php, React Native, React.js, Digital Safety, Amazon Web services (AWS), and a shipping and discharge worker', 'Atlassian Suite, Cooordinating Skills, Costings, Synthesizing, V-MODEL, Web Project Management, Ghad, Institutional Skills, Building Teams, and Facilitation', 'Merchandising Strategies, stock management, English, communications, attention to details, quality control, marketing, service that focuses on customers, analytical skills, and dealing skills between people', 'Esprit, data management, communications, teamwork, analytical skills, analytical, adaptation, and data science', 'Social, Social Sector, Stata, General Management, Communications, Economy, Critical Thinking, International Development, Leadership, and Analytical Skills', 'Esprit, Methodology, Synthesizing, Ghadi, Test Strategy, Fast Management Management, Communication between People, Software Development, Product Development, and Dealing Skills between People', 'Data Engineering, Python, Technical SkillSet, Communication between People, Institutional Skills, Soft Skills, Data Governance, Databases, Data Engineering, and Data Models Set', 'CSS, Next.js, React.js, Tailwind CSS, Typescript, Horvancement through the browser, web design, open web design, front end development, and server side', 'Java, Java Development, Security Assertion Markup Language (Saml), Software Architeecture, Struts, design with computer help, writing, specifications, single login (SSO), and database management system (DBMS)', 'Advision Clients, Staffing Processes, Account Management, Explore, Communications, Negotiation, Partnerships, French, Sales, and Team Spirit', 'Esprit, technical skillSet, Oracle financial statistics, independence, English, control of the process, communication between people, confidentiality, credibility, and dealing skills between people', 'A/b test, analyzes, communication between people, corporate data, data analysis for business, data analysis, interactive solution, data science, performance measurement, and data views', 'Android, Barcode, Gmail, online Search, Ads, English, Speaking in front of Jammour, French, Viruses Program, and Social Media', 'Directorship, Information Systems, Infrastructure, Improvement, Planning, Design, Computing, Technical Support, Operations, and Databases', 'IT Project Management, Project Management, Information Technology Strategy, Strategy, Strategic Thinking, Presentations, Level C, Analytical Skills, Facilitation, and Solution of Problems', 'English, communications, written communications, marketing, presentations, sales, analytical skills, business development, project organization, and presentation skills', 'Cobol, DB2, Digital Technology, GitLab, Technical Specs, Unit Test, Independence, Communications, Communication between People, Technical Analysis, Main Computer, and beneficiary control system', 'Java, SAP ERP, Skill Development, Management, Distributed Systems, Institution Resources Planning, Software Development, Software Services, Driving Teams, and Electronic Business Group from Oracle', 'Business Metrics, A/B test, analyzes, presentations, corporate data, data analyzes, data science, data groups, data views, and statistical models mode', 'Business Case Preparation, Business Metrics, A/B test, communications, communication between people, presentations, companies data, data analysis, data science, and new opportunities', 'PIPELINE Design, RTL CODING, SIMD, Accounts, Microscopy, Analytical Skills, Architecture, Internet Protocol, Problem solving, and system structure', 'Angular, Microservices, NosQL, Soa, Software Architecture, Technical SkillSet, User Experience Design (UED), High level design, level design, and writing project suggestions', 'Administration of stock holders, A/B test', '2G, Big-Picure Thinking, High Level of Accuracy, Listen, Discover and Fix errors, English, guide, wireless network, engineering, and driving work teams', 'P2p, SAP, SAP ERP, SAP Hana, Assembly, Legal Accounting, Business Planning, Business Intelligence with SABB, business creatures, and microscopic', 'Like Challenges, Pragmatics, SQL, Scrum, Research and Development, Communication between People, Documents, Institutional Skills, Engineering, and Software Design', 'Microservices, Quality Oriented, Software Architecture, Spring Boot, Spring Framework, Technology Intelligence, Prost', 'Feasibelsies, Mechanicals, Technical Specs, VBA, English, advanced planning for product quality, cars, French, specifications, and industrial engineering', 'CSS, Test of use, network frame for the site, communications, interactive design, user experience design (UED), user -based design, user interface design, user experience, and information structure', 'Engine Development, Gmail, Remote Work, Ads, English, Speaking in front of Jammour, French, Application Development, online content, and social media', 'Apache Airflow, Data Operations, Development Operations, Google BigQuery, Meetup, Microservices, Obfuscation, Ops, Site Reliability Engineering, and الإنجليزية', 'Continouous Integration and Continouous Delligery (CI/CD), Infrastructure Development, Python, Web Architecture, System Performance, Victory Management, Network Development for Back Facades, Problem Solution, Microsoft Azore, and Application Facades Applications', \"High Level of Accuration, Linux, Postgresql, Unix, English, People's communication, intermediate software, web servers, databases, and database management system (DBMS)\", 'Activemq, Java, Java Enterprise Edition, Osgi, Open API, Swagger API, Websphers ESB, conversion, company applications integration, j2ee web services, and applications of application programming', 'Anaplan, Esprit, Modelbuilder, Parals, Admission Test, User Acceptance Test, Communications, Trade, Administrative Information Systems, and models mode', 'Next.js, Rest Apis, React.js, Symfony Framework, French, and Jangu', 'Staffing Processes, Conducting, Communications, Confidential, Human Resources, Manpower Planning, Employee Services, Integration of New Employees, Conflict Resolution, and Dealing Skills between Persons', 'Jira, Python, Scrum, TerraForm, Project Management, Cloud Computing, Architecture, Amazon Web services (AWS), pre -sale services, programming languages, and Microsoft Azore', 'Business Architecture, Director Level, Soa, Technical Project Management, Technology Consulting, Data Management, Project Management, Analysis, Cloud Computing, and Software Development', 'Html5, javascript, php, symfony framework, English, trade, design with computer help, product design, design engineering, and electricity engineering', 'Communications and Marketing', 'Microsoft SQL Server, Synthesizing, English, Communications, Financial Analysis, Cars, Collective Work, Business Analysis, Data Analysis, and Driving Work Teams', 'Big-Picture Thinking, Esprit, Implementation Plan, Sensitive, Service Focused, Synthesizing, independence, trade, institutions that issue purchase orders, and work scope', 'Pre -sale services', 'Scrum, fast methodologies, and transform business', 'Computer Programming, GXP, Network Technologies, Sensitive, Virtual Routing and Forwarding (VRF)', 'JSON, Java, Java Entertainment Edition, SQL, Tibco, Tibco BusinessWorks, Tibco Ems, XML, XML Schema Definition (XSD), and Protocol to access the simple object', 'Business Case Development, Container Orchestation, IT ARCHITECTERES, IAAS, Service Mesh, Skill Development, Project Management, improvement, continuous improvement, and mathematics', 'Coordinating Skills, Data Streaming, Synthesizing, Training led by a teacher, communication between people, structural drawings, French, facilitation, mapping, and dealing skills between people', 'Zoho, Management of Changes, Research, Communications, Strategy, Improvement, Marketing, Negotiation, Analytical Skills, and Reservation Operations', 'Digital Accessibility, Investigator Brochors, SQL, English, Binary Communications, Cloud Computing, Analytical Skills, Data Storage, Data Deportation, and Information Technology Governance', 'Costings, Hyperion Planning, PL/SQL, Seeing The Bigger Picure, Oracle Financial Statistics, Human Resources with Oracle, easily adaptable, Oracle database, development projects, and dealing skills between people', 'HYPERTEXT Transfer Protocol (HTTP), IPERF, L2TP, Process Explorer, ProcMon, Tcpodyp, Technical Advisory, English, French, and Wair Share', 'Container Orchestation, Devops, Kubernetes, Terraform, Linux Systems Management, Engine X, Mongodb program, Product Promotion, Databases, and Database Management System (DBMS)', 'Graphic Design Principes, JavaScript, OOP, Typescript, Analytical Skills, Software Design, Web Applications, Shipping and Glip, Computer Science, and Data Consolies', 'CI, Continuous Integration and Continouous De glai (CI/CD), Devops, IP Development, Infrastructure as Code (IAC), Technical Advisory, configuration management, problem analysis, problem solving, and business requirements', '.NET, C', 'Devops, Esprit, Google Cloud Platform (GCP), Amazon EC2, Program Development Management, Training led by a teacher, communication between people, data deportation, Microsoft Azore, and dealing skills between people', 'C, SAP, Technical Special, Unix, Webmethods, Accident Management, Java Database Contact, Technical Support, Job requirements, Driving teams, and dealing skills between people', 'Ansible, Apache Kafka, Azure Kubernetes Service (AKS), Devops, Keycloak, Information Systems, Commitment to standards, cloud applications, continuous integration, databases, and Microsoft Azore', 'C, Financial Management, High Level of Accuracy, Priority Management, Unix, Information Systems, Project Management, Independence, English, Arabic, and Computer Engineering', 'Priority Management, Communications, improvement, negotiation, and cost reduction', 'Comic Books, Compelllet, Convincing People, Paper Prototyping, Technology Intelligence, Communications, Computing, Writing, Institutional Skills, and Database Management System (DBMS)', 'Digital technology, High Level of Accuration, Information Systems, Risk Management, Communications, Communication between People, Standards, Agent, Performance Standards, and Dealing Skills between People', 'Bitbucket, curber, java, python, gathering, English, communications, Gate Hap, Oracle database, and databases', 'Esprit, PostGRESQL, Sprint Planning, Career Test, Institutional Skills, Mechanization, Test Scenaries, Decision/Steel Check, Dealing Skills between Persons, Test Engineering', 'CSS, html5, javascript, javascript frameworks, nestjs, postgresql, type, unit test, technical architecture, and mobile applications development', 'Problem management, gathering, English, communications, French, processing, analytical skills, Service Yao, control panel, and infrastructure library', '.NET', 'Digital technology, project management, English, communications, television broadcasting online, cloud computing, Arabic, French, leadership and analytical skills', 'Contingesys, Margin Analysis, Cost Reports, Cost Control, Critical Flotation, Expectations, Finance, Project cost, cost benefit, and cost accounting', 'DSI, Communications, Collective Work, Financial Lists, Legal Accounting, Internal Review, Information Technology Check, JD Edwards, Accounting Standards, and Database Management System (DBMS)', 'Dax, Microsoft Excel, Microsoft Power BI, and Data Analysis for Business', 'Angular, CMS, CSS, GIT, HTML, JavaScript, Vue.js, Discover and Fix Error, Wood Web Design, and Systems Development Life Course', 'Python, R, VBA, VBA Excel, and Finance', 'HYPERTEXT Transfer Protocol (HTTP), IPERF, L2TP, Process Explorer, ProquMon, TCPDOMP, Technical Advisory, German, English, and Etisalat']\n"
     ]
    }
   ],
   "source": [
    "from googletrans import Translator\n",
    "all_skills = []\n",
    "for i in range(0,100):\n",
    "    first = data['Skills'][i]\n",
    "    text = first\n",
    "    language = 'en'\n",
    "    translator = Translator()\n",
    "    translation = translator.translate(text, dest = language)\n",
    "    all_skills.append(translation.text)\n",
    "print(all_skills)\n"
   ]
  },
  {
   "cell_type": "code",
   "execution_count": 25,
   "metadata": {},
   "outputs": [
    {
     "data": {
      "text/plain": [
       "101"
      ]
     },
     "execution_count": 25,
     "metadata": {},
     "output_type": "execute_result"
    }
   ],
   "source": [
    "len(all_skills2)"
   ]
  },
  {
   "cell_type": "code",
   "execution_count": 21,
   "metadata": {},
   "outputs": [
    {
     "name": "stdout",
     "output_type": "stream",
     "text": [
      "['Meeting Facility, Supplier Management, Management of Teams, Advanced Planning Products, Marketing, Negotiation, Collective Work, Building Teams, Driving Teams, and Electricity Engineering', 'Catalog Marketing, High Level of Accuration, Microsoft Excel, Office Automation, Independence, Communication between People, Institutional Skills, Dealing Skills between People, and Data Models', 'Gis Applications, Technology Intelligence, Trade, Technical Support, Institutional Skills, and Accident Treatment', 'CSS, DOCTRINE (php), Esprit, html, javascript, communications, trade, interior network, respondent web design, and network development for the rear facades', 'Coordinating Skills, Dcs, Electrical Power Systems, Hybrids, Post Processing, Writing and Treatment', 'Angular, CSS, Digital Technology, HTML5, Intellectully Curious, Vue.js, Engineering, Angolags application, front end development, and noda system', 'Devops, Esprit, Google Cloud Platform (GCP), Amazon EC2, Program Development Management, Training led by a teacher, communication between people, data deportation, Microsoft Azore, and dealing skills between people', 'Cisco Networking, Network Manage', 'Google Sheets, Python, English, Communications, Biblical Communications, Analysis, Analytical Skills, Data Analysis, Problem solving, and main performance indicators', 'Uranium, Mining, Sustainable Development, Chemical Engineering, Stations Design, Driving Technology, Technology, and Operations Engineering', 'Java, JavaScript, and SQL', 'Encoding, Fault Analysis, Roll Forming, Simulink, UML, English, Communications, response, functional design, and demand', 'Automobiles, Competiony Management, Costings, Design Tools, Supplier Management, Difference Management, Production by Mechanical means, Metal Sheets, Pipe Extension, and 3D Models mode', '.', 'General Data Protectation Regulation (GDPR), Management Management, Project Management (EPM), Project Management, Trade, Negotiation, Collective Work, Analytical Skills, Project Planning, and Driving Teams', 'Angular and Java', 'Coordinating Skills, Dcs, Electrical Power Systems, Hybrids, Post Processing, Writing and Treatment', 'Coordinating Skills, Figures, Service Focted, Test of Use, Extracting, Communications, User Training, Project Tracking, Project Teams, and Dealing Skills between Persons', 'Angular, Cucumber, Java, Mockito, Spring Framework, Design patterns, Java database connection, stillness, network development for rear facades, database management system (DBMS)', 'CSS, html, java, javascript, information technology service management, communication between people, Service Yao, delivery vocabulary, Information Technology Infrastructure Library, and dealing skills between people', 'Analytical Capability, Persuader, RISK Goovernance, Synthesizing, training management, English, communication between people, project management program, facilitation, and dealing skills between people', 'Best card', 'Angular, Apache Kafka, Elasticsearch, Java, React.js, Spring Boot, Spring Framework, Talend, Big Data, and Smile', 'CRM, Change Requests, Netsuite, Report Building, Workflow Management, Information Systems, Systems Management, Communications, Business Analysis, User Training', 'Offshore, Unix, WS, Webmethods, Java database connection, communications, legal accounting, company applications integration, computer installed pictures (CGI), and accounting standards', 'Agile Environment, Digital Technology, Intellecually Curious, Terraform, English, Emerging Technologies, Cloud Computing, Engineering, Data Deportation, and Microsoft Azore', 'Data integity, information technology Infrastructure, root cause prilym solution, independence, communications, technical support, problem solving, problem solving, operational efficiency guarantee, and databases', 'C', 'Capabelsies Development, Journal, profssational Development, SaFETY Practices, Technology Intelligence, Accident Management, Team Management, Dispute Settlement, Problem solving, and project plans', 'Java and Spring Framework', 'Java, LifeYay, JBPM, JQUEY, Protocol to access the simple object, and the Java Messages Service (JMS)', 'Customer Journeys, High Level of Accuration, Project Managers, Technical Specs, Project Management, Communications, Collective Work, Institutional Skills, Project Tracking, and Databases', 'Coooratinging Skills, Dax, Etl, Investigator Brochors, Synthesizing, English, Communications, QLIKVIEW, Data Analysis, and Control Panel', 'Commercial business and business analysis', 'Devops, Google Cloud Platform (GCP), Network Provisioning, Virtual Networks, Training Management, Training Leader, Teacher, Communication between People, Technical Documentation, System Composition, and Dealing Skills between People', 'Angular, Apache Kafka, High Level of Accuracy, Java, Java Development, Struts, Smile, Continuous Integration, Jenkins, and Shipping and Displacement Worker', 'Full-Stack Development, GXP, Java, MAVEN, Struts, Unit Test, Engineering Design, Network Development for Back Association', 'Budgeting & Forecasting, Budget Preparation, Communications, Financial Analysis, Quantitative Analysis, Expectations, Presentations, Financial, Problem solving, and main performance indicators', 'CSS, JasMine Framework, OOP, Development tools, software test, start, software development, test cases, problem solving, and business logic', 'Candidate Selection, Job applications, investigation, and databases', '.NET, Angular, c', 'Digital Technology, Java, Java Development, Spring Framework, Struts, Java Servant (JSF), Independence, Smile, Network Development for Back Fads, and Web Services', '3D Studio Max, CSS, GXP, HTML5, Module Development, Technology Intelligence, Typescript, starting upload orders, programming, and architecture', 'MEP COORDINATION, SLA, Communication between People, Writing, English Language for Business, Job requirements, Institutional Skills, Facilitation, Member of the European Parliament, and Dealing Skills between People', 'Continouous Integration and Continuous Deiivery (CI/CD), Devops, Javascript, Kubernetes, Linux, Python, Terraform, Cloud Applications, Cloud Computing, and Shipping and Fluid', 'Cloud Infrastructure, Devops, Flux, Kubernetes, Python, Terraform, Program Program Program Management Management, Linux Systems Management, Software Development, and Continuous Integration', 'Canoe, Cooordinating Skills, detailing Design, Model Design, Vector Canalyzer, Communications, Communication Protocols, Program Requirements, Customer Requirements, and System Requirements', 'Gitops, Kubernetes, New Product Rollo, Communication between People, Problem solving, problem solving, backup solutions, security policy, cost efficiency, and dealing skills between people', 'Compelllent, Convincing People, New Product Rollout, Paper Protyping, Technology Intelligence, Communications, Computing, Writing, Institutional Skills, and Database Management System (DBMS)', 'Compelllent, Convincing People, New Product Rollout, Paper Protyping, Technology Intelligence, Communications, Computing, Writing, Institutional Skills, and Database Management System (DBMS)', 'Html5, java, javascript, Linux, MySQL, Objective-C, PHP, Rest Apis, Project Management, and Mongodb program', 'Devops, Optimization Strategies, Python, YAML, Download Test, Communication between People, Energy Planning, Software Development, Service levels, and Deal Skills between People', 'Bloomberg, emerging markets, English, communications, fixed income, group work, currency, analytical skills, data analysis, and Macro', 'Intellectully Curious, Zephyr, Software Test, English, French, Job requirements, Analytical Skills, Mechanization, Seleneum, and ICTATION Tests', 'Ansible, Devops, Git, OpenStack, Postgresql, Python, Robot Framework, Terraform, Nagius, and Jenkinz Program', 'Monitoring Performance, pos material, advertising, advertising communications, bilateral communications, commercial strategies, improvement, institutional skills, product mixing, and dealing skills between people', 'Computer Programming, GXP, Kubernetes, Linux, Network Provisioning, SaFty Practices, Terraform, Program Programs Management Management, Linux Systems Manage', 'C, Coordinating Skills, Project Managers, Technical Project Management, Technical Undersanding, Project Management, Communications, Institutional Skills, Problem solving, Databases, and Information Technology Infrastructure Library', 'Gitlab, Java, Javascript, MAVEN, Sonar, Typescc', 'Desktop DePloyment, ROOT CEUSE Problem Solving, Technical SkillSet, Security Management, Communications, Access Control, Collective Work, Facilitate, Problem Solution, and Easy Ease', 'Clienteling, posl, trade, e -commerce, negotiation, teamwork, multi -channel retail, customer experience, and indexing', 'Fiber to the x (fttx), internal mobile, synthesizing, accident management, team management, process control, writing, institutional skills, facilitation, and committees', 'Defing Requirements, Passionate About Work, Simulink, English, Analytical Skills, Compact Systems, Automated Human Design, Request, Electricity Engineering, and Systems Engineering', 'Data management, database management, improvement, packaging with programs, permanent availability, data deportation, database design, Oracle database, databases, and database management system (DBMS)', 'Gitlab, listen, technical skillSet, terraform, management preparation management, independence, communications, cloud computing, data deportation, and customer requirements', 'Digital technology, html, post material, photoshop, powerPoint, information systems, reports preparation, advertising, communications, editing, signs, and planning', 'Security Operations Center, Horization test, digital safety, training, technical training, security audits, educational design, employee training, Gulf Research Center, and ISO 27001 Standard', 'Aura, Salesforce.com, Quality Management, Communications, Quality Control, after sale, quality insurance, quality audit, quality system, and data quality', 'Java', 'Active Listness, Etl, Java, Salesforce.com, XML, Zuora, English, Protocol to access the simple object, web services, and user stories', 'Management, English as a second language, cloud computing, personal files, preparation, and base of knowledge', 'Analytical reasons, c#, root cause probem solution, communications, programming, compact systems, device programming, software design, software development, and solving problems', 'Ansible, Devops, Gitlab, Kubernetes, Linux, Terraform, El Dabab, Jenkins, Shipping and District, and DNS system', 'JSP, MicroServices, Servlets, Spring Batch, Spring Cloud, Spring Framework, Struts, Java database connection, stillness, and payment processing', 'B2, Call Tracking, Customer SatisFASFACTION (CSAT), Esculation Process, Voice & Accent, Tracking Systems, Soft Skills, Customer Experience, Technical Requirements, and Service Office', 'Angular, Flask, HTML5, React.js, Technical Advisory, Software Development, Jangu, Problem solving, technical requirements, and program publication', 'Model-Based Systems Engineering (MBSE), Synthesizing, Systems Modeling, Systems Management, Discovery and Repair of Error, Programming, Software Development, DNS, Operating Systems, and Systems Engineering', 'APACHE Cxf, Java, Java Enterprise Edition, MyClipse, Spring Batch, Spring Boot, Spring Framework, UML, Java server face', 'Agile Development, C#, Garbage Collection, Java, distributed systems, network development for backfront', 'Office Automation, Rock Climbing, Accident Management, English, Network, Training led by Teacher, Office 365, Service Yao, Application Support Officer, and Operating Systems', 'C, Digital technology, ethics, English, emerging technologies, computing, guide, Arabic, French, personal files, and institutional skills', '.NET, C', 'Commercial, Commercial Proposals, Java, Listen, PL/SQL, SQL, Salary Negotions, English, Speaking in front of Jamour, negotiation, computing, business development, and dealing skills between people', '.', 'Team Management, Extract, Commercial Management, Communications, Presentations, Collective Work, Financial, Problem Solve, Sage Products, and Database Management System (DBMS)', '.', 'Intellectually Curious, Meeting Facility, SAP, SAP BW, SAP Hana, Sap Lumira, Spotfire, Job Test, job requirements, and business intelligence at SABB', 'Client Focus, JSP, Junit, Javaserver Pages Standard Tag Libration (JSTL), Mockito, SAP, Engineering Design, People Communication, Technical Documentation, and Corrective Maintenance', 'Angular, Encoding, Homology, Sale', 'Opera, Revenue Management, Management, Communications, Improvement, Amendments, Return, and Confirmation', 'Computer Language, Computer Programming, Quantum financing, arithmetic solutions, taste, mathematics, teamwork, reagents, writing texts, and creativity skills', 'COLLABORATIVE WORK, Intellectually Curious, Professional Development, Communications, Research and Development, Computing, French, Analytical Skills, Team Spirit, and Dealing Skills between People', '.', 'Angular, Encoding, Homology, Sale', 'Junit, Java, Java Development, Spring formork', 'Devops, java, python, architectural design, cloud computing, distributed systems, software development, driving teams, data engineering, and data structures', 'Devops, Devsecops, Automated Tools, Launch Management, Programming, Integration, Engineering, Continuous Integration, Computer Science, and Programming Languages', 'Git, Grald, Java, LifeY, MAVEN, Struts, English, Smile, Fast methodologies, and Jenkins', 'Microsoft Dynamics ERP, Service Focused, Oracle Financial Statistics, Treasury Department, Procurement Management, Criticism Management, Trading Operations Manage', 'Angular, Integration Projects, Rest Apis, Software Architecture, Synthesizing, Technical SkillSet, UML, User Management, Engineering Design, and Applications Facades', 'High Level of Accuration, Listen, Priority Management, English, Communications, Biblical Communications, Communication between People, Relations with Customers, French, and Institutional Skills']\n"
     ]
    }
   ],
   "source": [
    "from googletrans import Translator\n",
    "all_skills2 = []\n",
    "for i in range(100,201):\n",
    "    first = data['Skills'][i]\n",
    "    text = first\n",
    "    language = 'en'\n",
    "    translator = Translator()\n",
    "    translation = translator.translate(text, dest = language)\n",
    "    all_skills2.append(translation.text)\n",
    "print(all_skills2)\n"
   ]
  },
  {
   "cell_type": "code",
   "execution_count": 26,
   "metadata": {},
   "outputs": [
    {
     "data": {
      "text/plain": [
       "101"
      ]
     },
     "execution_count": 26,
     "metadata": {},
     "output_type": "execute_result"
    }
   ],
   "source": [
    "len(all_skills2)"
   ]
  },
  {
   "cell_type": "code",
   "execution_count": null,
   "metadata": {},
   "outputs": [],
   "source": [
    "from googletrans import Translator\n",
    "all_skills3 = []\n",
    "for i in range(201,257):\n",
    "    first = data['Skills'][i]\n",
    "    text = first\n",
    "    language = 'en'\n",
    "    translator = Translator()\n",
    "    translation = translator.translate(text, dest = language)\n",
    "    all_skills3.append(translation.text)\n",
    "print(all_skills3)\n"
   ]
  }
 ],
 "metadata": {
  "kernelspec": {
   "display_name": "base",
   "language": "python",
   "name": "python3"
  },
  "language_info": {
   "codemirror_mode": {
    "name": "ipython",
    "version": 3
   },
   "file_extension": ".py",
   "mimetype": "text/x-python",
   "name": "python",
   "nbconvert_exporter": "python",
   "pygments_lexer": "ipython3",
   "version": "3.11.7"
  }
 },
 "nbformat": 4,
 "nbformat_minor": 2
}
